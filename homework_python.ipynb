{
 "cells": [
  {
   "cell_type": "markdown",
   "metadata": {},
   "source": [
    "Напишите программу, которая выводит на экран числа от 1 до 100. При этом вместо чисел, кратных трем, программа должна выводить слово «Fizz», а вместо чисел, кратных пяти — слово «Buzz». Если число кратно и 3, и 5, то программа должна выводить слово «FizzBuzz»"
   ]
  },
  {
   "cell_type": "code",
   "execution_count": 117,
   "metadata": {
    "collapsed": false
   },
   "outputs": [
    {
     "name": "stdout",
     "output_type": "stream",
     "text": [
      "1\n",
      "2\n",
      "Fizz\n",
      "4\n",
      "Buzz\n",
      "Fizz\n",
      "7\n",
      "8\n",
      "Fizz\n",
      "Buzz\n",
      "11\n",
      "Fizz\n",
      "13\n",
      "14\n",
      "FizzBuzz\n",
      "16\n",
      "17\n",
      "Fizz\n",
      "19\n",
      "Buzz\n",
      "Fizz\n",
      "22\n",
      "23\n",
      "Fizz\n",
      "Buzz\n",
      "26\n",
      "Fizz\n",
      "28\n",
      "29\n",
      "FizzBuzz\n",
      "31\n",
      "32\n",
      "Fizz\n",
      "34\n",
      "Buzz\n",
      "Fizz\n",
      "37\n",
      "38\n",
      "Fizz\n",
      "Buzz\n",
      "41\n",
      "Fizz\n",
      "43\n",
      "44\n",
      "FizzBuzz\n",
      "46\n",
      "47\n",
      "Fizz\n",
      "49\n",
      "Buzz\n",
      "Fizz\n",
      "52\n",
      "53\n",
      "Fizz\n",
      "Buzz\n",
      "56\n",
      "Fizz\n",
      "58\n",
      "59\n",
      "FizzBuzz\n",
      "61\n",
      "62\n",
      "Fizz\n",
      "64\n",
      "Buzz\n",
      "Fizz\n",
      "67\n",
      "68\n",
      "Fizz\n",
      "Buzz\n",
      "71\n",
      "Fizz\n",
      "73\n",
      "74\n",
      "FizzBuzz\n",
      "76\n",
      "77\n",
      "Fizz\n",
      "79\n",
      "Buzz\n",
      "Fizz\n",
      "82\n",
      "83\n",
      "Fizz\n",
      "Buzz\n",
      "86\n",
      "Fizz\n",
      "88\n",
      "89\n",
      "FizzBuzz\n",
      "91\n",
      "92\n",
      "Fizz\n",
      "94\n",
      "Buzz\n",
      "Fizz\n",
      "97\n",
      "98\n",
      "Fizz\n",
      "Buzz\n"
     ]
    }
   ],
   "source": [
    "for i in range(1,101):\n",
    "    if (i%3==0) & (i%5!=0):\n",
    "        print 'Fizz'\n",
    "    elif (i%5==0) & (i%3!=0):\n",
    "        print 'Buzz'\n",
    "    elif i%15==0:\n",
    "        print 'FizzBuzz'\n",
    "    else:\n",
    "        print i"
   ]
  },
  {
   "cell_type": "markdown",
   "metadata": {},
   "source": [
    "Напишите вычисление сотого числа Фибоначчи"
   ]
  },
  {
   "cell_type": "code",
   "execution_count": 118,
   "metadata": {
    "collapsed": false
   },
   "outputs": [
    {
     "name": "stdout",
     "output_type": "stream",
     "text": [
      "218922995834555169026\n"
     ]
    }
   ],
   "source": [
    "x0=0\n",
    "x1=1\n",
    "for i in range (1,100):\n",
    "    x2=x1\n",
    "    x1=x0\n",
    "    x0=x1+x2\n",
    "print x0"
   ]
  },
  {
   "cell_type": "markdown",
   "metadata": {},
   "source": [
    "Напишите свой аналог numpy.linspace с использованием цикла и с использованием list comprehension. Сравните все три варианта по времени работы."
   ]
  },
  {
   "cell_type": "code",
   "execution_count": 119,
   "metadata": {
    "collapsed": false
   },
   "outputs": [
    {
     "name": "stdout",
     "output_type": "stream",
     "text": [
      "[ 2.    2.25  2.5   2.75  3.  ]\n",
      "[2.0, 2.25, 2.5, 2.75, 3.0]\n",
      "[2.0, 2.25, 2.5, 2.75, 3.0]\n",
      "1000000 loops, best of 3: 1.87 µs per loop\n",
      "100000 loops, best of 3: 2.28 µs per loop\n",
      "The slowest run took 7.91 times longer than the fastest. This could mean that an intermediate result is being cached.\n",
      "100000 loops, best of 3: 5.35 µs per loop\n"
     ]
    }
   ],
   "source": [
    "import numpy as np\n",
    "print np.linspace(2.0, 3.0, num=5)\n",
    "\n",
    "def lin(x, y, num):\n",
    "    arr=[]\n",
    "    dx=float(y-x)/(num-1)\n",
    "    for i in xrange (num):\n",
    "        arr.append(x+i*dx)\n",
    "    return arr\n",
    "print lin(2.0, 3.0, num=5) \n",
    "\n",
    "def lin2(x, y, num):\n",
    "    arr=[x+i*float(y-x)/(num-1) for i in xrange(num)]\n",
    "    return arr\n",
    "print lin2(2.0, 3.0, num=5)\n",
    "\n",
    "%timeit lin(2.0, 3.0, num=5)\n",
    "%timeit lin2(2.0, 3.0, num=5)\n",
    "%timeit np.linspace(2.0, 3.0, num=5)"
   ]
  },
  {
   "cell_type": "markdown",
   "metadata": {},
   "source": [
    "Постройте графики трех элементарных функций (на ваш выбор) на одной координатной плоскости\n",
    "Добавьте подписи к осям и легенду в TeXе к получившимся графикам\n",
    "Пользуясь документацией Matplotlib, изобразите справа от исходной кординатной плоскости еще одну, еще с двумя графиками элементарных функций.\n",
    "Сохраните рисунок в файл строчкой кода на Python."
   ]
  },
  {
   "cell_type": "code",
   "execution_count": 120,
   "metadata": {
    "collapsed": false
   },
   "outputs": [
    {
     "data": {
      "image/png": "[encoded data removed]",
      "text/plain": [
       "<matplotlib.figure.Figure at 0x8c81f98>"
      ]
     },
     "metadata": {},
     "output_type": "display_data"
    }
   ],
   "source": [
    "import numpy as np\n",
    "import matplotlib.pyplot as plt\n",
    "grid = np.linspace(0,1,21)\n",
    "x1 = np.linspace(0.0, 5.0)\n",
    "x2 = np.linspace(0.0, 5.0)\n",
    "x3 = np.linspace(0.0, 5.0)\n",
    "x4 = np.linspace(0.0, 5.0)\n",
    "x5 = np.linspace(0.0, 5.0)\n",
    "y1 = 5**(x1)\n",
    "y2 = 2000*x2\n",
    "y3 = 1500*np.sin(np.pi*x3)\n",
    "y4 = np.exp(-x4)*x4\n",
    "y5 = np.arctan(x5)\n",
    "\n",
    "plt.subplot(2, 2, 1)\n",
    "plt.xlabel('$x$')\n",
    "plt.ylabel('$f(x)$')\n",
    "plt.plot(x1, y1, label = '$5^x$')\n",
    "plt.plot(x2, y2, label = '$2000x$')\n",
    "plt.plot(x3, y3, label = '$1500sin(\\pi*x)$')\n",
    "plt.legend(loc = 0,fontsize = 'x-small')\n",
    "plt.subplot(2, 2, 2)\n",
    "plt.plot(x4, y4, label = '$xe^{-x}$')\n",
    "plt.plot(x5, y5, label = '$arctan(x)$')\n",
    "plt.legend(loc = 0,fontsize = 'x-small')\n",
    "\n",
    "plt.savefig('test.png')\n",
    "plt.show()"
   ]
  },
  {
   "cell_type": "markdown",
   "metadata": {},
   "source": [
    "Сгенерируйте матрицу размера 5 х 5, заполненную результатами генерации чисел из стандартного нормального распределения (матожидание - 0, дисперсия - 1)"
   ]
  },
  {
   "cell_type": "code",
   "execution_count": 121,
   "metadata": {
    "collapsed": false
   },
   "outputs": [
    {
     "name": "stdout",
     "output_type": "stream",
     "text": [
      "[[-0.19543661  2.05158957 -0.16358977 -0.291374    1.24900674]\n",
      " [-0.12761861  1.25922179  1.50498193  0.23847959 -0.431021  ]\n",
      " [-1.01031976  0.30918346 -1.80268629 -0.21018338 -1.56914148]\n",
      " [-0.37211671 -1.27494436  0.10627689  0.1593117  -2.0276985 ]\n",
      " [-1.17549689  0.6947846  -0.19594804  1.93255129  0.16012252]]\n"
     ]
    }
   ],
   "source": [
    "import numpy as np\n",
    "from scipy import linalg\n",
    "a = np.random.randn(5, 5) # заполняем матрицу 5х5 рандомными числами\n",
    "print a"
   ]
  },
  {
   "cell_type": "markdown",
   "metadata": {},
   "source": [
    "Найдите собственные числа и собственные векторы этой матрицы (если забыли определение - можно посмотреть в Википедии)\n",
    "Проверьте, что результаты - действительно собственные числа и собственные векторы"
   ]
  },
  {
   "cell_type": "code",
   "execution_count": 122,
   "metadata": {
    "collapsed": false
   },
   "outputs": [
    {
     "name": "stdout",
     "output_type": "stream",
     "text": [
      "(-2.56684775101+0j) (0.354209495297+2.71937023674j) (0.354209495297-2.71937023674j) (-0.112234218728+0j) (1.55119608135+0j)\n",
      "[-0.21924785+0.j  0.31918708+0.j -0.89302371+0.j -0.01594549+0.j\n",
      " -0.22870151+0.j]\n",
      "[ 0.06057427-0.44278778j  0.23906247+0.06277965j -0.08406494+0.26765851j\n",
      "  0.00136066+0.56169931j  0.58733435+0.j        ]\n",
      "[ 0.06057427+0.44278778j  0.23906247-0.06277965j -0.08406494-0.26765851j\n",
      "  0.00136066-0.56169931j  0.58733435-0.j        ]\n",
      "[-0.80443361+0.j -0.21873981+0.j  0.26698465+0.j -0.41786890+0.j\n",
      "  0.24319590+0.j]\n",
      "[-0.55371968+0.j -0.69647419+0.j -0.09754668+0.j  0.19301236+0.j\n",
      "  0.40193171+0.j]\n",
      "[ 0.56277586+0.j -0.81930464+0.j  2.29225591+0.j  0.04092964+0.j\n",
      "  0.58704195+0.j] [ 0.56277586-0.j -0.81930464+0.j  2.29225591-0.j  0.04092964-0.j\n",
      "  0.58704195-0.j]\n",
      "[ 1.22555990+0.00788424j -0.08604291+0.6723365j  -0.75763919-0.13379652j\n",
      " -1.52698641+0.20265936j  0.20803940+1.59717955j] [ 1.22555990+0.00788424j -0.08604291+0.6723365j  -0.75763919-0.13379652j\n",
      " -1.52698641+0.20265936j  0.20803940+1.59717955j]\n",
      "[ 1.22555990-0.00788424j -0.08604291-0.6723365j  -0.75763919+0.13379652j\n",
      " -1.52698641-0.20265936j  0.20803940-1.59717955j] [ 1.22555990-0.00788424j -0.08604291-0.6723365j  -0.75763919+0.13379652j\n",
      " -1.52698641-0.20265936j  0.20803940-1.59717955j]\n",
      "[ 0.09028498+0.j  0.02455009+0.j -0.02996481+0.j  0.04689919+0.j\n",
      " -0.02729490+0.j] [ 0.09028498-0.j  0.02455009-0.j -0.02996481+0.j  0.04689919-0.j\n",
      " -0.02729490+0.j]\n",
      "[-0.85892780+0.j -1.08036803+0.j -0.15131402+0.j  0.29940001+0.j\n",
      "  0.62347490+0.j] [-0.85892780+0.j -1.08036803+0.j -0.15131402+0.j  0.29940001+0.j\n",
      "  0.62347490+0.j]\n"
     ]
    }
   ],
   "source": [
    "la, v = linalg.eig(a) # возвращает собственные числа и собственные векторы\n",
    "print la[0], la[1], la[2], la[3], la[4]   # печатаем собственные числа\n",
    "print v[:, 0]   # здесь начинаем печатать собственные векторы\n",
    "print v[:, 1]\n",
    "print v[:, 2]   \n",
    "print v[:, 3]\n",
    "print v[:, 4]\n",
    "# проверим, что это собственные векторы/собственные числа\n",
    "for i in xrange(5):\n",
    "    print np.dot(a, v[:, i]), la[i]*v[:, i]"
   ]
  }
 ],
 "metadata": {
  "anaconda-cloud": {},
  "kernelspec": {
   "display_name": "Python [default]",
   "language": "python",
   "name": "python2"
  },
  "language_info": {
   "codemirror_mode": {
    "name": "ipython",
    "version": 2
   },
   "file_extension": ".py",
   "mimetype": "text/x-python",
   "name": "python",
   "nbconvert_exporter": "python",
   "pygments_lexer": "ipython2",
   "version": "2.7.12"
  }
 },
 "nbformat": 4,
 "nbformat_minor": 1
}
